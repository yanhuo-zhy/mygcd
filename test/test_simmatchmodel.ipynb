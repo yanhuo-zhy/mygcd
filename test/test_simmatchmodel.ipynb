{
 "cells": [
  {
   "cell_type": "code",
   "execution_count": null,
   "metadata": {},
   "outputs": [],
   "source": [
    "import torch\n",
    "import torch.nn as nn\n",
    "class MyModel(nn.Module):\n",
    "    def __init__(self, num_classes=200, feature_dim=256, K=128):\n",
    "        super(MyModel, self).__init__()\n",
    "        self.K = K\n",
    "        self.num_classes = num_classes\n",
    "        self.feature_dim = feature_dim\n",
    "\n",
    "        self.register_buffer(\"u_bank\", torch.randn(self.K, feature_dim))\n",
    "        self.u_bank = nn.functional.normalize(self.u_bank)\n",
    "        self.register_buffer(\"u_labels\", torch.zeros(self.K, num_classes) / num_classes)\n",
    "        self.register_buffer(\"ptr\", torch.zeros(1, dtype=torch.long))\n",
    "    \n",
    "    @torch.no_grad()\n",
    "    def _update_unlabel_bank(self, feature, prob):\n",
    "        batch_size = feature.size(0)\n",
    "        ptr = int(self.ptr[0])\n",
    "        assert self.K % batch_size == 0\n",
    "        self.u_bank[ptr:ptr + batch_size] = feature\n",
    "        self.u_labels[ptr:ptr + batch_size] = prob\n",
    "        self.ptr[0] = (ptr + batch_size) % self.K\n",
    "\n",
    "feature_model = MyModel(num_classes=200, feature_dim=256, K=len(train_loader.dataset)//args.batch_size*args.batch_size)\n",
    "\n",
    "student_proj, student_out = student(images)\n",
    "teacher_out = student_out.detach()\n",
    "\n",
    "u_bank   = feature_model.u_bank.clone().detach()\n",
    "u_labels = feature_model.u_labels.clone().detach()\n",
    "\n",
    "feature_w, feature_s = student_proj.chunk(2)[0], student_proj.chunk(2)[1]\n",
    "logits_w, logits_s = student_out.chunk(2)[0], student_out.chunk(2)[1]\n",
    "prob_w = F.softmax(logits_w, dim=1)\n",
    "\n",
    "simmatrix_w = feature_w @ u_bank.T\n",
    "relation_w = F.softmax(simmatrix_w / 0.1, dim=-1)\n",
    "\n",
    "simmatrix_s = feature_s @ u_bank.T\n",
    "relation_s = F.softmax(simmatrix_s / 0.1, dim=-1)\n",
    "\n",
    "kl_div_s_w = F.kl_div(relation_s.log(), relation_w, reduction='batchmean')\n",
    "\n",
    "nn_qu = relation_s @ u_labels\n",
    "loss_ne = torch.sum(-nn_qu.log() * prob_w.detach(), dim=1).mean()"
   ]
  }
 ],
 "metadata": {
  "language_info": {
   "name": "python"
  },
  "orig_nbformat": 4
 },
 "nbformat": 4,
 "nbformat_minor": 2
}
